{
 "cells": [
  {
   "cell_type": "code",
   "execution_count": 1,
   "metadata": {},
   "outputs": [
    {
     "name": "stdout",
     "output_type": "stream",
     "text": [
      "Train on 60000 samples\n",
      "Epoch 1/10\n",
      "60000/60000 [==============================] - 3s 55us/sample - loss: 0.5102 - accuracy: 0.8179\n",
      "Epoch 2/10\n",
      "60000/60000 [==============================] - 3s 57us/sample - loss: 0.3741 - accuracy: 0.8636\n",
      "Epoch 3/10\n",
      "60000/60000 [==============================] - 5s 82us/sample - loss: 0.3357 - accuracy: 0.8768\n",
      "Epoch 4/10\n",
      "60000/60000 [==============================] - 4s 73us/sample - loss: 0.3112 - accuracy: 0.8845\n",
      "Epoch 5/10\n",
      "60000/60000 [==============================] - 5s 90us/sample - loss: 0.2928 - accuracy: 0.8907\n",
      "Epoch 6/10\n",
      "60000/60000 [==============================] - 5s 87us/sample - loss: 0.2751 - accuracy: 0.8979\n",
      "Epoch 7/10\n",
      "60000/60000 [==============================] - 5s 78us/sample - loss: 0.2624 - accuracy: 0.9021\n",
      "Epoch 8/10\n",
      "60000/60000 [==============================] - 5s 77us/sample - loss: 0.2503 - accuracy: 0.9060\n",
      "Epoch 9/10\n",
      "60000/60000 [==============================] - 4s 62us/sample - loss: 0.2411 - accuracy: 0.9097\n",
      "Epoch 10/10\n",
      "60000/60000 [==============================] - 3s 52us/sample - loss: 0.2296 - accuracy: 0.9144\n"
     ]
    },
    {
     "data": {
      "text/plain": [
       "<tensorflow.python.keras.callbacks.History at 0x10b615940>"
      ]
     },
     "execution_count": 1,
     "metadata": {},
     "output_type": "execute_result"
    }
   ],
   "source": [
    "import tensorflow as tf\n",
    "from tensorflow import keras\n",
    "from tensorflow.keras.models import Sequential\n",
    "from tensorflow.keras.layers import Activation, Flatten, Dense, Dropout\n",
    "import numpy as np \n",
    "import matplotlib.pyplot as plt\n",
    "\n",
    "data = keras.datasets.fashion_mnist\n",
    "\n",
    "(x_train, y_train), (x_test, y_test) = data.load_data()\n",
    "\n",
    "class_names = ['T-shirt/top', 'Trouser', 'Pullover', 'Dress', 'Coat',\n",
    "               'Sandal', 'Shirt', 'Sneaker', 'Bag', 'Ankle boot']\n",
    "\n",
    "x_train = tf.keras.utils.normalize(x_train, axis=1)\n",
    "x_test = tf.keras.utils.normalize(x_test, axis=1)\n",
    "\n",
    "model = keras.Sequential([\n",
    "    keras.layers.Flatten(input_shape=(28, 28)),\n",
    "    keras.layers.Dense(128, activation='relu'),\n",
    "    keras.layers.Dense(10, activation='softmax')\n",
    "])\n",
    "\n",
    "model.compile(optimizer='adam',\n",
    "              loss='sparse_categorical_crossentropy',\n",
    "              metrics=['accuracy'])\n",
    "model.fit(x_train, y_train, epochs=10)\n",
    "\n",
    "\n",
    "\n",
    "\n"
   ]
  },
  {
   "cell_type": "code",
   "execution_count": 2,
   "metadata": {},
   "outputs": [],
   "source": [
    "predictions = model.predict([x_test])\n",
    "\n",
    "a = open(\"yeet.txt\",\"w\")\n",
    "\n",
    "for i in range (0,10000):\n",
    "    if np.argmax(predictions[i]) == y_test[i]:\n",
    "        b = (i,\" \",\"Correct \",np.argmax(predictions[i]),\" \",y_test[i])\n",
    "        a.write(str(b))\n",
    "    else:\n",
    "        c = (i,\" \",\"Wrong  \",np.argmax(predictions[i]),\" \",y_test[i])\n",
    "        a.write(str(c))"
   ]
  },
  {
   "cell_type": "code",
   "execution_count": null,
   "metadata": {},
   "outputs": [],
   "source": []
  }
 ],
 "metadata": {
  "kernelspec": {
   "display_name": "Python 3",
   "language": "python",
   "name": "python3"
  },
  "language_info": {
   "codemirror_mode": {
    "name": "ipython",
    "version": 3
   },
   "file_extension": ".py",
   "mimetype": "text/x-python",
   "name": "python",
   "nbconvert_exporter": "python",
   "pygments_lexer": "ipython3",
   "version": "3.7.3"
  }
 },
 "nbformat": 4,
 "nbformat_minor": 2
}
